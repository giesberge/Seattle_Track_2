{
 "cells": [
  {
   "cell_type": "code",
   "execution_count": 1,
   "metadata": {},
   "outputs": [],
   "source": [
    "import pandas as pd\n",
    "import os\n",
    "import utm\n",
    "import numpy as np\n",
    "from tqdm import tqdm_notebook as tqdm\n",
    "from scipy import spatial\n",
    "from arcgis.gis import GIS\n",
    "import arcgis.geocoding\n",
    "import arcgis.geometry\n",
    "\n",
    "#Create a map widget like you have done many times before\n",
    "# gis = GIS(\"https://htm.esri.com/portal\", \"Mishkan\", \"password1\")\n",
    "# map = gis.map()"
   ]
  },
  {
   "cell_type": "markdown",
   "metadata": {},
   "source": [
    "The data is initially loaded into a pandas dataframe, it is pickled and saved for speeding up restarts of this script"
   ]
  },
  {
   "cell_type": "code",
   "execution_count": 2,
   "metadata": {},
   "outputs": [],
   "source": [
    "df_savepath = 'filter_df.df'\n",
    "csv_zip_path ='../Data/AIS_2017_12_Zone11.zip'\n",
    "\n",
    "try:\n",
    "    df = pd.read_pickle(df_savepath)\n",
    "except FileNotFoundError:\n",
    "    df = pd.read_csv(csv_zip_path, infer_datetime_format=True, parse_dates=[1])"
   ]
  },
  {
   "cell_type": "markdown",
   "metadata": {},
   "source": [
    "Initial content filters are given below and commented, remove or adjust any lines as needed"
   ]
  },
  {
   "cell_type": "code",
   "execution_count": 3,
   "metadata": {},
   "outputs": [],
   "source": [
    "filtered_idx = np.all(np.vstack([\n",
    "    df['VesselType'] != 52, # no tugs\n",
    "    df['VesselType'] != 1023,\n",
    "    df['VesselType'] != 1025,\n",
    "    df['Status'] != 'moored', #nothing that is moored\n",
    "    df['Status'] != 'at anchor', #nothing that is at anchor\n",
    "    df['SOG'] >= 4 #no speeds less than 4 knots\n",
    "                    ]), axis=0)"
   ]
  },
  {
   "cell_type": "markdown",
   "metadata": {},
   "source": [
    "Filters are applied the dataframe is repickled"
   ]
  },
  {
   "cell_type": "code",
   "execution_count": 4,
   "metadata": {},
   "outputs": [
    {
     "name": "stdout",
     "output_type": "stream",
     "text": [
      "The dataframe is reduced to only 910913 points\n"
     ]
    }
   ],
   "source": [
    "df = df[filtered_idx]\n",
    "df.to_pickle(df_savepath)\n",
    "print(f\"The dataframe is reduced to only {len(df)} points\")"
   ]
  },
  {
   "cell_type": "markdown",
   "metadata": {},
   "source": [
    "The following function is a quick way to detect interaction type"
   ]
  },
  {
   "cell_type": "code",
   "execution_count": 5,
   "metadata": {},
   "outputs": [],
   "source": [
    "def detect_interaction(ship1, ship2):\n",
    "    def norm_angle(ang):\n",
    "        if ang < 0:\n",
    "            ang += 360\n",
    "        if ang > 360:\n",
    "            ang -= 360\n",
    "        return ang\n",
    "    \n",
    "    init1 = (ship1['LAT'].values[0], ship1['LON'].values[0])\n",
    "    init2 = (ship2['LAT'].values[0], ship2['LON'].values[0])\n",
    "    bear1 = ship1['COG'].values[0]\n",
    "    bear2 = ship2['COG'].values[0]\n",
    "    ship1_behind = norm_angle(bear1-180)\n",
    "    ship2_behind = norm_angle(bear2-180)\n",
    "    x1, y1, _, _ = utm.from_latlon(init1[0], init1[1])\n",
    "    x2, y2, _, _ = utm.from_latlon(init2[0], init2[1])\n",
    "    dx = x2 - x1\n",
    "    dy = y2 - y1\n",
    "    angle1 = 180*np.arctan2(dy, dx)/np.pi*-1+90\n",
    "    angle2 = 180*np.arctan2(-dy, -dx)/np.pi*-1+90\n",
    "    if (angle1 < ship1_behind+67.5 and angle1 > ship1_behind-67.5) or (angle2 < ship2_behind+67.5 and angle2 > ship2_behind-67.5):\n",
    "        return 'Overtaking'\n",
    "    elif (angle1 < bear1+10 and angle1 > bear1-10) or (angle2 < bear2+10 and angle2 > bear2-10):\n",
    "        return 'Head-On'\n",
    "    else:\n",
    "        return 'Crossing'"
   ]
  },
  {
   "cell_type": "code",
   "execution_count": 6,
   "metadata": {},
   "outputs": [
    {
     "data": {
      "application/vnd.jupyter.widget-view+json": {
       "model_id": "1e6696b3d754484aacee8012ac11a575",
       "version_major": 2,
       "version_minor": 0
      },
      "text/plain": [
       "HBox(children=(IntProgress(value=0, max=2976), HTML(value='')))"
      ]
     },
     "metadata": {},
     "output_type": "display_data"
    },
    {
     "name": "stdout",
     "output_type": "stream",
     "text": [
      "\n"
     ]
    }
   ],
   "source": [
    "time_start = df['BaseDateTime'].min()\n",
    "time_delta = (df['BaseDateTime'].max()-df['BaseDateTime'].min()).total_seconds()/60\n",
    "time_window = 30\n",
    "time_step = 15\n",
    "interactions_list = []\n",
    "interaction_number = 0\n",
    "\n",
    "for t in tqdm(np.arange(0, time_delta, time_step)):\n",
    "    time_step_idx = np.all(np.vstack([\n",
    "        df['BaseDateTime'] > time_start + pd.Timedelta(minutes=t),\n",
    "        df['BaseDateTime'] < time_start + pd.Timedelta(minutes=t+time_window)\n",
    "        ]\n",
    "       ), axis=0)\n",
    "    df_sub = df[time_step_idx]\n",
    "    #Spatial distances are calculated\n",
    "    distances = np.triu(spatial.distance.squareform(spatial.distance.pdist(df_sub.iloc[:, 2:4])))\n",
    "    distances[distances > 0.067] = 0\n",
    "    pairs = np.nonzero(distances)\n",
    "    #Remove distances of ship relative to self\n",
    "    MMSI_pairs = (df_sub['MMSI'].iloc[pairs[0]], df_sub['MMSI'].iloc[pairs[1]])\n",
    "    ship_non_self_idx = np.argwhere(MMSI_pairs[0].values!=MMSI_pairs[1].values)\n",
    "    ship_pairs = np.array([pairs[0][ship_non_self_idx], pairs[1][ship_non_self_idx]]).T[0]\n",
    "    #Find each unique interaction\n",
    "    mmsi_ship_pairs = df_sub['MMSI'].values[ship_pairs]\n",
    "    if len(mmsi_ship_pairs) == 0:\n",
    "        continue\n",
    "    interactions = np.unique(mmsi_ship_pairs, axis=0)\n",
    "    for pair in interactions:\n",
    "        ship1 = df_sub[df_sub['MMSI'] == pair[0]]\n",
    "        ship2 = df_sub[df_sub['MMSI'] == pair[1]]\n",
    "        \n",
    "        out = [ship1['MMSI'].values[0],\n",
    "               ship2['MMSI'].values[0],\n",
    "               np.mean([ship1['LAT'].values[0], ship2['LAT'].values[0]]),\n",
    "               np.mean([ship1['LON'].values[0], ship2['LON'].values[0]]),\n",
    "               ship1['BaseDateTime'].values[0],\n",
    "               detect_interaction(ship1, ship2)\n",
    "              ]\n",
    "        interactions_list.append(out)"
   ]
  },
  {
   "cell_type": "code",
   "execution_count": 10,
   "metadata": {},
   "outputs": [],
   "source": [
    "out_df = pd.DataFrame(interactions_list, columns=['MMSI1', 'MMSI2', 'LAT', 'LON', 'Timestamp', 'Interaction'])\n",
    "out_df.to_csv('out.csv')"
   ]
  }
 ],
 "metadata": {
  "kernelspec": {
   "display_name": "Python 3",
   "language": "python",
   "name": "python3"
  },
  "language_info": {
   "codemirror_mode": {
    "name": "ipython",
    "version": 3
   },
   "file_extension": ".py",
   "mimetype": "text/x-python",
   "name": "python",
   "nbconvert_exporter": "python",
   "pygments_lexer": "ipython3",
   "version": "3.6.6"
  }
 },
 "nbformat": 4,
 "nbformat_minor": 2
}
